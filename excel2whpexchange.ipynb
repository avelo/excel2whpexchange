{
 "cells": [
  {
   "cell_type": "markdown",
   "metadata": {
    "colab_type": "text",
    "id": "view-in-github"
   },
   "source": [
    "<a href=\"https://colab.research.google.com/github/avelo/stuff/blob/master/excel2whpexchange.ipynb\" target=\"_parent\"><img src=\"https://colab.research.google.com/assets/colab-badge.svg\" alt=\"Open In Colab\"/></a>"
   ]
  },
  {
   "cell_type": "code",
   "execution_count": null,
   "metadata": {
    "cellView": "form",
    "colab": {},
    "colab_type": "code",
    "id": "cZ2AhOXUOvRm"
   },
   "outputs": [],
   "source": [
    "#@title STEP 1) Write generator lab & person. ex: CSICIIMAVL\n",
    "%load_ext google.colab.data_table\n",
    "import io\n",
    "import time\n",
    "import re\n",
    "import csv\n",
    "import datetime as dt\n",
    "!pip install --upgrade openpyxl\n",
    "import pandas as pd\n",
    "from google.colab import data_table\n",
    "from google.colab import files\n",
    "#\n",
    "%rm -rf *.ods\n",
    "%rm -rf *.xlsx\n",
    "%rm -rf stuff\n",
    "!git clone https://github.com/avelo/stuff\n",
    "#\n",
    "uploaded_spreadsheet_file=files.upload()\n",
    "institution='CREATOR'  #@param {type: \"string\"}\n",
    "#\n",
    "spreadsheet_filename=list(uploaded_spreadsheet_file.keys())[0]\n",
    "ext = spreadsheet_filename.split('.')[-1]\n",
    "if not ext in ['xlsx', 'ods']:\n",
    "    raise Exception(f'Only spreadsheets in Excel (.xlsx) or OpenDocument (.ods) format allowed') \n",
    "if ext == 'ods':\n",
    "    !pip install odfpy\n",
    "PRETTY_PRINT = True\n",
    "#\n",
    "%run -i stuff/excel2whpexchange.py $spreadsheet_filename $institution\n",
    "#\n",
    "time.sleep(10)\n",
    "files.download(outfile)    "
   ]
  }
 ],
 "metadata": {
  "colab": {
   "collapsed_sections": [],
   "include_colab_link": true,
   "name": "Copy of excel2whpexchange.ipynb",
   "provenance": []
  },
  "kernelspec": {
   "display_name": "Python 3",
   "language": "python",
   "name": "python3"
  },
  "language_info": {
   "codemirror_mode": {
    "name": "ipython",
    "version": 3
   },
   "file_extension": ".py",
   "mimetype": "text/x-python",
   "name": "python",
   "nbconvert_exporter": "python",
   "pygments_lexer": "ipython3",
   "version": "3.7.6"
  }
 },
 "nbformat": 4,
 "nbformat_minor": 1
}
