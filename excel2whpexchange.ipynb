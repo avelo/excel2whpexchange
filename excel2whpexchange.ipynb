{
  "nbformat": 4,
  "nbformat_minor": 0,
  "metadata": {
    "colab": {
      "name": "excel2whpexchange.ipynb",
      "provenance": [],
      "collapsed_sections": [],
      "toc_visible": true,
      "authorship_tag": "ABX9TyNmhmKNa+2zdU8PQfTVUJBS",
      "include_colab_link": true
    },
    "kernelspec": {
      "name": "python3",
      "display_name": "Python 3"
    }
  },
  "cells": [
    {
      "cell_type": "markdown",
      "metadata": {
        "id": "view-in-github",
        "colab_type": "text"
      },
      "source": [
        "<a href=\"https://colab.research.google.com/github/avelo/stuff/blob/master/excel2whpexchange.ipynb\" target=\"_parent\"><img src=\"https://colab.research.google.com/assets/colab-badge.svg\" alt=\"Open In Colab\"/></a>"
      ]
    },
    {
      "cell_type": "code",
      "metadata": {
        "id": "cZ2AhOXUOvRm",
        "colab_type": "code",
        "colab": {}
      },
      "source": [
        "from google.colab import files\n",
        "uploaded_spreadsheet_file=files.upload()\n",
        "institution='CREATOR'  #@param {type: \"string\"}"
      ],
      "execution_count": 0,
      "outputs": []
    },
    {
      "cell_type": "code",
      "metadata": {
        "id": "9Na7lBg0ROse",
        "colab_type": "code",
        "colab": {}
      },
      "source": [
        "%load_ext google.colab.data_table\n",
        "import io\n",
        "import re\n",
        "import datetime as dt\n",
        "import pandas as pd\n",
        "from google.colab import data_table\n",
        "from google.colab import files\n",
        "\n",
        "\n",
        "PRETTY_PRINT = True\n",
        "#\n",
        "## Define Precisions\n",
        "precision = {}\n",
        "for k in {'STNNBR', 'CASTNO', 'BTLNBR', 'SAMPNO'}:\n",
        "    precision[k] = 0\n",
        "for k in {'CTDOXY', 'OXYGEN', 'SILCAT', 'NITRAT', 'NITRIT', 'PHSPHT', 'TCARBN', 'ALKALI', 'CFC113', 'SF6', 'CCL4', 'HELIUM', 'HELIUM_ERR', 'DELHE3', 'DELHE3_ERR'}:\n",
        "    precision[k] = 2\n",
        "for k in {'CFC11', 'CFC12', 'TRITUM', 'TRITUM_ERR'}:\n",
        "    precision[k] = 3\n",
        "for k in {'LATITUDE', 'LONGITUDE', 'CTDPRS', 'CTDTMP', 'CTDSAL', 'SALNTY', 'PHTS25P0', 'NEON', 'NEON_ERR'}:\n",
        "    precision[k] = 4\n",
        "\n",
        "spreadsheet_filename=list(uploaded_spreadsheet_file.keys())[0]\n",
        "## Read FIRST sheet with data\n",
        "ext = spreadsheet_filename.split('.')[-1]\n",
        "if not ext in ['xlsx', 'ods']:\n",
        "    sys.exit(f'Only spreadsheets in Excel (.xlsx) or OpenDocument (.ods) format allowed')\n",
        "engine = 'odf' if ext == 'ods' else 'xlrd'\n",
        "print(f'Processing {spreadsheet_filename}')\n",
        "df = pd.read_excel(io.BytesIO(uploaded_spreadsheet_file[spreadsheet_filename]), 0, dtype=object, encoding='utf-8', engine=engine)\n",
        "units = df.iloc[0, :]\n",
        "df = df.iloc[1:, :]\n",
        "# Set precisions\n",
        "for k, v in precision.items():\n",
        "    try:\n",
        "        df[k] = df[k].astype(float).apply(lambda x: f'{x:{9 if PRETTY_PRINT else \"\"}.{v}f}')\n",
        "    except:\n",
        "        pass\n",
        "        #print(f'.. unable to format or unexistent: {k}')\n",
        "try:\n",
        "    df['TIME'] = df['TIME'].astype(float).apply(lambda x: f'{x:04.0f}')\n",
        "except:\n",
        "    pass\n",
        "# Remove -999 cols\n",
        "cols_to_remove = []\n",
        "cols_to_remove2 = []\n",
        "for col in df:\n",
        "    if (df[col].astype(float, errors='ignore') == -999).all():\n",
        "        cols_to_remove.append(col)\n",
        "        if f'{col}_FLAG_W' in df:\n",
        "            cols_to_remove2.append(f'{col}_FLAG_W')\n",
        "print(f'..following columns removed due to -999: {\",\".join(cols_to_remove)}')\n",
        "print(f'..following columns removed due to nonsense without previous ones: {\",\".join(cols_to_remove2)}')\n",
        "cols_to_remove.extend(cols_to_remove2)\n",
        "df = df.drop(columns=cols_to_remove)\n",
        "units = units.drop(cols_to_remove)\n",
        "## Read SECOND sheet with metadata\n",
        "try:\n",
        "    metadata = pd.read_excel(io.BytesIO(uploaded_spreadsheet_file[spreadsheet_filename]), 1, dtype=str, encoding='utf-8', engine=engine, header=None, na_filter=False).to_csv(header=False, index=False)\n",
        "except:\n",
        "    metadata = ''\n",
        "# Write file\n",
        "outfile = spreadsheet_filename.split('.')[0] + '_hy1.csv'\n",
        "print(f'Writting WHP-Exchange BOTTLE file in: {outfile}')\n",
        "with open(outfile, 'wt', encoding='utf-8', newline='') as fout:\n",
        "    yyyymmdd = dt.datetime.now().strftime('%Y%m%d')\n",
        "    fout.write(f'BOTTLE,{yyyymmdd}{institution}\\n')\n",
        "    for line in metadata.splitlines():\n",
        "        line = line.strip('\"').replace(',,',',').rstrip(',')\n",
        "        fout.write(f'# {line}\\n')\n",
        "    fout.write(','.join(df.columns)+'\\n')\n",
        "    fout.write(','.join(list(units.fillna('')))+'\\n')\n",
        "    fout.write(df.to_csv(header=False, index=False, line_terminator='\\n'))\n",
        "    fout.write('END_DATA')\n",
        "print('Done')\n",
        "files.download(outfile)\n"
      ],
      "execution_count": 0,
      "outputs": []
    },
    {
      "cell_type": "code",
      "metadata": {
        "id": "zrK2BormTNLE",
        "colab_type": "code",
        "colab": {}
      },
      "source": [
        "data_table.DataTable(df,max_columns=100,include_index=False)"
      ],
      "execution_count": 0,
      "outputs": []
    }
  ]
}